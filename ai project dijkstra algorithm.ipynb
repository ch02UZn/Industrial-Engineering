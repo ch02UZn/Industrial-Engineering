{
 "cells": [
  {
   "cell_type": "code",
   "execution_count": 91,
   "metadata": {},
   "outputs": [
    {
     "name": "stdout",
     "output_type": "stream",
     "text": [
      "{'T1': {'T2': 100, 'F2': 30.0}, 'T2': {'T3': 100, 'F3': 30.0}, 'F2': {'T4': 100, 'F4': 9.0}, 'T3': {'T5': 100, 'F5': 30.0}, 'F3': {'T6': 100, 'F6': 9.0}, 'T4': {'T7': 100, 'F7': 30.0}, 'F4': {'T8': 100, 'F8': 1000000}, 'T5': {'T9': 100, 'F9': 30.0}, 'F5': {'T10': 100, 'F10': 0.8099999999999999}, 'T6': {'T11': 100, 'F11': 30.0}, 'F6': {'T12': 100, 'F12': 1000000}, 'T7': {'T13': 100, 'F13': 30.0}, 'F7': {'T14': 100, 'F14': 0.24299999999999994}, 'T8': {'T15': 100, 'F15': 30.0}, 'F8': {'T16': 100, 'F16': 1000000}, 'T9': {'END': 0}, 'F9': {'END': 0}, 'T10': {'END': 0}, 'F10': {'END': 0}, 'T11': {'END': 0}, 'F11': {'END': 0}, 'T12': {'END': 0}, 'F12': {'END': 0}, 'T13': {'END': 0}, 'F13': {'END': 0}, 'T14': {'END': 0}, 'F14': {'END': 0}, 'T15': {'END': 0}, 'F15': {'END': 0}, 'T16': {'END': 0}, 'F16': {'END': 0}, 'END': {'T1': 10000000}}\n"
     ]
    }
   ],
   "source": [
    "#graph for dijkstra algorithm\n",
    "P=100\n",
    "al=0.3\n",
    "graph = {'T1':{'T2':P,'F2':P*al},'T2': {'T1':P, 'T3':P, 'F3':P*al}, 'F2': {'T1':P, 'T4':P, 'F4':P*(al**2)}}\n",
    "n=2**4\n",
    "m=1\n",
    "for i in range(2,n+1):\n",
    "    if 2*i-1 in range(1,n+1):\n",
    "        graph[str('T'+str(i))] = {str('T'+str(int(2*i-1))):P, str('F'+str(int(2*i-1))):P*al}\n",
    "        j=i\n",
    "        if j%2==0:\n",
    "            while j%2==0:\n",
    "                j=j/2\n",
    "                m+=1\n",
    "                \n",
    "            if m>2:\n",
    "                graph[str('F'+str(i))] = {str('T'+str(int(2*i))):P,str('F'+str(int(2*i))):1000000}\n",
    "            else:\n",
    "                graph[str('F'+str(i))] = {str('T'+str(int(2*i))):P,str('F'+str(int(2*i))):P*(al**m)}\n",
    "        else:\n",
    "            graph[str('F'+str(i))] = {str('T'+str(int(2*i))):P,str('F'+str(int(2*i))):P*(al**m)}\n",
    "             \n",
    "         \n",
    "    else:\n",
    "        graph[str('T'+str(i))] = {'END':0}\n",
    "        graph[str('F'+str(i))] = {'END':0}\n",
    "graph['END']={'T1':10000000}\n",
    "    \n",
    "print(graph)"
   ]
  },
  {
   "cell_type": "raw",
   "metadata": {},
   "source": [
    "\n"
   ]
  },
  {
   "cell_type": "code",
   "execution_count": 1,
   "metadata": {},
   "outputs": [
    {
     "name": "stdout",
     "output_type": "stream",
     "text": [
      "Shortest distance is 529.0000000000025\n",
      "And the path is ['T1', 'F2', 'F4', 'T8', 'T15', 'F29', 'F58', 'T116', 'F231', 'F462', 'T924', 'F1847', 'F3694', 'END']\n"
     ]
    }
   ],
   "source": [
    "#whole code\n",
    "from math import inf\n",
    "P=100\n",
    "al=0.3\n",
    "graph = {'T1':{'T2':P,'F2':P*al},'T2': {'T1':P, 'T3':P, 'F3':P*al}, 'F2': {'T1':P, 'T4':P, 'F4':P*(al**2)}}\n",
    "n=2**12\n",
    "m=1\n",
    "for i in range(2,n+1):\n",
    "    if 2*i-1 in range(1,n+1):\n",
    "        graph[str('T'+str(i))] = {str('T'+str(int(2*i-1))):P, str('F'+str(int(2*i-1))):P*al}\n",
    "        j=i\n",
    "        if j%2==0:\n",
    "            while j%2==0:\n",
    "                j=j/2\n",
    "                m+=1\n",
    "                \n",
    "            if m>3:\n",
    "                graph[str('F'+str(i))] = {str('T'+str(int(2*i))):P,str('F'+str(int(2*i))):1000000}\n",
    "            else:\n",
    "                graph[str('F'+str(i))] = {str('T'+str(int(2*i))):P,str('F'+str(int(2*i))):P*(al**m)}\n",
    "        else:\n",
    "            graph[str('F'+str(i))] = {str('T'+str(int(2*i))):P,str('F'+str(int(2*i))):P*(al**m)}\n",
    "             \n",
    "         \n",
    "    else:\n",
    "        graph[str('T'+str(i))] = {'END':0}\n",
    "        graph[str('F'+str(i))] = {'END':0}\n",
    "graph['END']={'T1':10000000}\n",
    "\n",
    "\n",
    "def dijkstra(graph,start,goal):\n",
    "    shortest_distance = {}\n",
    "    predecessor = {}\n",
    "    unseenNodes = graph\n",
    "    infinity = inf\n",
    "    path = []\n",
    "    for node in unseenNodes:\n",
    "        shortest_distance[node] = infinity\n",
    "    shortest_distance[start] = 0\n",
    "\n",
    "    # Determine which is minimum node. What does that mean?\n",
    "    while unseenNodes:\n",
    "        minNode = None\n",
    "        for node in unseenNodes:\n",
    "            if minNode is None:\n",
    "                minNode = node\n",
    "            elif shortest_distance[node] < shortest_distance[minNode]:\n",
    "                minNode = node\n",
    "\n",
    "        for edge, weight in graph[minNode].items():\n",
    "            if weight + shortest_distance[minNode] < shortest_distance[edge]:\n",
    "                shortest_distance[edge] = weight + shortest_distance[minNode]\n",
    "                predecessor[edge] = minNode\n",
    "        unseenNodes.pop(minNode)\n",
    "\n",
    "    currentNode = goal\n",
    "    while currentNode != start:\n",
    "        try:\n",
    "            path.insert(0,currentNode)\n",
    "            currentNode = predecessor[currentNode]\n",
    "        except KeyError:\n",
    "            print('Path not reachable')\n",
    "            break\n",
    "    path.insert(0,start)\n",
    "    if shortest_distance[goal] != infinity:\n",
    "        print('Shortest distance is ' + str(shortest_distance[goal]))\n",
    "        print('And the path is ' + str(path))\n",
    "\n",
    "\n",
    "dijkstra(graph, 'T1', 'END')\n"
   ]
  }
 ],
 "metadata": {
  "kernelspec": {
   "display_name": "Python 3",
   "language": "python",
   "name": "python3"
  },
  "language_info": {
   "codemirror_mode": {
    "name": "ipython",
    "version": 3
   },
   "file_extension": ".py",
   "mimetype": "text/x-python",
   "name": "python",
   "nbconvert_exporter": "python",
   "pygments_lexer": "ipython3",
   "version": "3.6.3"
  }
 },
 "nbformat": 4,
 "nbformat_minor": 2
}
